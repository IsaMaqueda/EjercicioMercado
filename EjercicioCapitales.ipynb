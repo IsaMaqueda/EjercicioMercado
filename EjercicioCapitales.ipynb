{
  "nbformat": 4,
  "nbformat_minor": 0,
  "metadata": {
    "colab": {
      "name": "EjercicioCapitales.ipynb",
      "provenance": [],
      "include_colab_link": true
    },
    "kernelspec": {
      "name": "python3",
      "display_name": "Python 3"
    },
    "language_info": {
      "name": "python"
    }
  },
  "cells": [
    {
      "cell_type": "markdown",
      "metadata": {
        "id": "view-in-github",
        "colab_type": "text"
      },
      "source": [
        "<a href=\"https://colab.research.google.com/github/IsaMaqueda/EjercicioMercado/blob/main/EjercicioCapitales.ipynb\" target=\"_parent\"><img src=\"https://colab.research.google.com/assets/colab-badge.svg\" alt=\"Open In Colab\"/></a>"
      ]
    },
    {
      "cell_type": "markdown",
      "metadata": {
        "id": "N3kUUGtGWO_8"
      },
      "source": [
        "### Que va ha hacer el programa:\n",
        "tenemos un budget de 1 ,500 millones. Elejir acciones a comprar. No se puede gastar mas de lo que empezamos. Lo que tiene que pasar es hacer un programa que tenga salvado las acciones que tenemos.\n",
        "\n"
      ]
    },
    {
      "cell_type": "markdown",
      "metadata": {
        "id": "4tF_pmyrYbKH"
      },
      "source": [
        "##\n",
        "\n",
        "2 csv : \n",
        "  1. que tenga el budget\n",
        "    1. funcion que lea el budget\n",
        "    2. funcion que actualize el budget \n",
        "\n",
        "  2. que tenga el numero de acciones, las acciones y el precio inicial\n",
        "\n",
        "    1. que lea la informacion de un csv, y te pase un objeto\n",
        "    2. una funcion que pueda modificar el objeto, ya se añadir o borrar cosas\n",
        "      1. subfunciones para añadir\n",
        "      2. subfuncion para vender acciones \n",
        "    3. que guarde el objeto obtenido al mismo csv, reescribirlo.  \n"
      ]
    },
    {
      "cell_type": "code",
      "metadata": {
        "colab": {
          "base_uri": "https://localhost:8080/"
        },
        "id": "oyyZdExYbfKZ",
        "outputId": "eed9d1a1-75de-4c94-bcc7-f843a4233804"
      },
      "source": [
        "!git clone https://github.com/IsaMaqueda/EjercicioMercado.git"
      ],
      "execution_count": 3,
      "outputs": [
        {
          "output_type": "stream",
          "text": [
            "Cloning into 'EjercicioMercado'...\n",
            "remote: Enumerating objects: 3, done.\u001b[K\n",
            "remote: Counting objects: 100% (3/3), done.\u001b[K\n",
            "remote: Total 3 (delta 0), reused 0 (delta 0), pack-reused 0\u001b[K\n",
            "Unpacking objects: 100% (3/3), done.\n"
          ],
          "name": "stdout"
        }
      ]
    },
    {
      "cell_type": "code",
      "metadata": {
        "id": "LhnGgRuHbk-K"
      },
      "source": [
        "!cd EjercicioMercado/\n"
      ],
      "execution_count": 6,
      "outputs": []
    },
    {
      "cell_type": "code",
      "metadata": {
        "colab": {
          "base_uri": "https://localhost:8080/"
        },
        "id": "t9qwy-y7Vno6",
        "outputId": "9076984e-39df-4c7d-f8e8-5d3bfe75cc5c"
      },
      "source": [
        "import pandas as pd\n",
        "import numpy as np \n",
        "\n"
      ],
      "execution_count": null,
      "outputs": [
        {
          "output_type": "stream",
          "text": [
            "sample_data\n"
          ],
          "name": "stdout"
        }
      ]
    }
  ]
}